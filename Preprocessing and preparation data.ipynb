{
 "cells": [
  {
   "cell_type": "code",
   "execution_count": 1,
   "metadata": {},
   "outputs": [],
   "source": [
    "import pandas as pd;\n",
    "import numpy as np ;\n",
    "from sklearn import preprocessing\n",
    "\n",
    "data = pd.read_csv(\"BitcoinHeistData.csv\")\n",
    "data.pop(\"address\")\n",
    "\n",
    "\n",
    "\n",
    "###### Conversion de l'attribut day en année et fusionner les 2 attributs annee et day ######\n",
    "a = np.array(data.pop(\"day\"))\n",
    "a = a/365\n",
    "DataMat1 = np.array(data)\n",
    "for i in range(DataMat1.shape[0]):\n",
    "    DataMat1[i,0] += a[i]\n",
    "##################################################################################\n",
    "\n",
    "\n",
    "\n",
    "###### convertir les labels Ransomeware en 1 et non ransomeware en 0 #######\n",
    "for i in range(DataMat1.shape[0]):\n",
    "    if(DataMat1[i,7] != 'white'):\n",
    "        DataMat1[i,7] = 1\n",
    "    else:\n",
    "        DataMat1[i,7] = 0\n",
    "##################################################################################\n",
    "\n",
    "\n",
    "\n",
    "####### Mettre notre Data sans output dans la matrice DataMat2 a fin de la covertir en csv et la normaliser #########\n",
    "DataMat2 = np.zeros([DataMat1.shape[0] ,DataMat1.shape[1]-1 ])\n",
    "for i in range(DataMat1.shape[0]):\n",
    "    for j in range(DataMat1.shape[1]-1):\n",
    "        DataMat2[i,j] = DataMat1[i,j]\n",
    "np.savetxt(\"Bitcoin_Normalization.csv\" , DataMat2 , delimiter= \",\")\n",
    "data = pd.read_csv(\"Bitcoin_Normalization.csv\" ,  header = None)\n",
    "\n",
    "###### Normalization Data######\n",
    "x = data.values #returns a numpy array\n",
    "min_max_scaler = preprocessing.MinMaxScaler()\n",
    "x_scaled = min_max_scaler.fit_transform(x)\n",
    "data = pd.DataFrame(x_scaled)\n",
    "################################################\n",
    "\n",
    "####################################################################################################################\n",
    "\n",
    "\n",
    "\n",
    "#### Mettre les Attributs dans le vecteur inputs #################\n",
    "Inputs = np.array(data)\n",
    "np.savetxt(\"InputsNormalization.csv\" , Inputs , delimiter= \",\")\n",
    "################################################################\n",
    "\n",
    "\n",
    "########## mettre les labels dans le vecteur Output ###############         \n",
    "Outputs = DataMat1[:,7]\n",
    "np.savetxt(\"OutputsNormalization.csv\" , Outputs , delimiter= \",\")\n",
    "##################################################################\n",
    "\n",
    "\n",
    "\n",
    "\n"
   ]
  },
  {
   "cell_type": "code",
   "execution_count": null,
   "metadata": {},
   "outputs": [],
   "source": []
  },
  {
   "cell_type": "code",
   "execution_count": null,
   "metadata": {},
   "outputs": [],
   "source": [
    "\n",
    "\n",
    "\n",
    "\n"
   ]
  },
  {
   "cell_type": "code",
   "execution_count": null,
   "metadata": {},
   "outputs": [],
   "source": []
  },
  {
   "cell_type": "code",
   "execution_count": null,
   "metadata": {},
   "outputs": [],
   "source": []
  },
  {
   "cell_type": "code",
   "execution_count": null,
   "metadata": {},
   "outputs": [],
   "source": []
  },
  {
   "cell_type": "code",
   "execution_count": null,
   "metadata": {},
   "outputs": [],
   "source": [
    "\n",
    "        "
   ]
  },
  {
   "cell_type": "code",
   "execution_count": null,
   "metadata": {},
   "outputs": [],
   "source": []
  },
  {
   "cell_type": "code",
   "execution_count": null,
   "metadata": {},
   "outputs": [],
   "source": []
  },
  {
   "cell_type": "code",
   "execution_count": null,
   "metadata": {},
   "outputs": [],
   "source": []
  },
  {
   "cell_type": "code",
   "execution_count": null,
   "metadata": {},
   "outputs": [],
   "source": []
  },
  {
   "cell_type": "code",
   "execution_count": null,
   "metadata": {},
   "outputs": [],
   "source": []
  },
  {
   "cell_type": "code",
   "execution_count": null,
   "metadata": {},
   "outputs": [],
   "source": []
  },
  {
   "cell_type": "code",
   "execution_count": null,
   "metadata": {},
   "outputs": [],
   "source": []
  },
  {
   "cell_type": "code",
   "execution_count": null,
   "metadata": {},
   "outputs": [],
   "source": []
  },
  {
   "cell_type": "code",
   "execution_count": null,
   "metadata": {},
   "outputs": [],
   "source": []
  },
  {
   "cell_type": "code",
   "execution_count": null,
   "metadata": {},
   "outputs": [],
   "source": []
  },
  {
   "cell_type": "code",
   "execution_count": null,
   "metadata": {},
   "outputs": [],
   "source": []
  },
  {
   "cell_type": "code",
   "execution_count": null,
   "metadata": {},
   "outputs": [],
   "source": []
  },
  {
   "cell_type": "code",
   "execution_count": null,
   "metadata": {},
   "outputs": [],
   "source": [
    "\n"
   ]
  },
  {
   "cell_type": "code",
   "execution_count": null,
   "metadata": {},
   "outputs": [],
   "source": []
  }
 ],
 "metadata": {
  "kernelspec": {
   "display_name": "Python 3",
   "language": "python",
   "name": "python3"
  },
  "language_info": {
   "codemirror_mode": {
    "name": "ipython",
    "version": 3
   },
   "file_extension": ".py",
   "mimetype": "text/x-python",
   "name": "python",
   "nbconvert_exporter": "python",
   "pygments_lexer": "ipython3",
   "version": "3.8.5"
  }
 },
 "nbformat": 4,
 "nbformat_minor": 4
}
